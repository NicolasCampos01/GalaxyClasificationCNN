{
  "cells": [
    {
      "cell_type": "markdown",
      "metadata": {
        "id": "WGF3hX7lGWVi"
      },
      "source": [
        "# Red neuronal convolucional para clasificación de galaxias según su morfología\n",
        "El estudio y clasificación de galaxias es una tarea fundamental en la astronomía, ya que nos permite comprender la evolución y estructura del universo. Sin embargo, analizar manualmente la morfología de galaxias es una tarea compleja y laboriosa, especialmente en grandes conjuntos de datos astronómicos.\n",
        "\n",
        "En este contexto, el uso de Redes Neuronales Convolucionales (CNN) surge como la solución más lógica. Estas redes están diseñadas para aprender automáticamente características visuales relevantes en las imágenes, lo que las hace ideales para extraer patrones de forma, tamaño y textura en las galaxias.\n",
        "\n",
        "La importancia del presente trabajo radica en su capacidad para acelerar y automatizar la clasificación de galaxias, permitiendo analizar grandes cantidades de datos de manera eficiente y precisa.\n",
        "\n",
        "\n",
        "\n"
      ]
    },
    {
      "cell_type": "markdown",
      "metadata": {
        "id": "f18kmaZ_GWVn"
      },
      "source": [
        "### Importación de librerías"
      ]
    },
    {
      "cell_type": "markdown",
      "source": [
        "Procedemos a importar todas las librerías necesarias para el desarrollo del proyecto:"
      ],
      "metadata": {
        "id": "raQAEf3VKZDb"
      }
    },
    {
      "cell_type": "code",
      "execution_count": null,
      "metadata": {
        "id": "KEivaQZ0GWVo",
        "outputId": "40fecb76-c7e3-4491-811d-71e5e9359e68"
      },
      "outputs": [
        {
          "name": "stderr",
          "output_type": "stream",
          "text": [
            "2023-07-30 22:39:45.969642: I tensorflow/core/util/port.cc:110] oneDNN custom operations are on. You may see slightly different numerical results due to floating-point round-off errors from different computation orders. To turn them off, set the environment variable `TF_ENABLE_ONEDNN_OPTS=0`.\n",
            "2023-07-30 22:39:45.990889: I tensorflow/core/platform/cpu_feature_guard.cc:182] This TensorFlow binary is optimized to use available CPU instructions in performance-critical operations.\n",
            "To enable the following instructions: AVX2 AVX_VNNI FMA, in other operations, rebuild TensorFlow with the appropriate compiler flags.\n"
          ]
        }
      ],
      "source": [
        "import tensorflow as tf\n",
        "from tensorflow import keras\n",
        "from tensorflow.keras import layers, models\n",
        "from keras.layers import Dense\n",
        "from tensorflow.keras.preprocessing.image import ImageDataGenerator\n",
        "import pandas as pd\n",
        "import numpy as np\n",
        "from sklearn.model_selection import train_test_split\n",
        "import os\n",
        "import random\n",
        "import matplotlib.pyplot as plt\n",
        "from skimage.transform import resize\n",
        "from tqdm import tqdm\n",
        "import shutil\n",
        "from PIL import Image\n",
        "from sklearn.metrics import roc_curve, auc\n",
        "from sklearn.preprocessing import label_binarize"
      ]
    },
    {
      "cell_type": "markdown",
      "source": [
        "Cabe destacar que hay que tener las imágenes de las galaxias de antemano para la realización del proyecto:"
      ],
      "metadata": {
        "id": "q2CJXtt8KhY7"
      }
    },
    {
      "cell_type": "code",
      "execution_count": null,
      "metadata": {
        "id": "3hWBpDDSGWVr"
      },
      "outputs": [],
      "source": [
        "# Directorio que contiene todas las imágenes de galaxias\n",
        "ruta_al_directorio_de_imagenes = '/home/vpinto/teaching/train'  #\n",
        "\n",
        "# Directorio base donde se crearán los subdirectorios para cada tipo de galaxia\n",
        "directorio_base = '/home/vpinto/teaching/imagenes_ordenadas'  # Ajusta la ruta del directorio base donde se crearán los subdirectorios\n",
        "\n",
        "# Obtener la lista de nombres de archivos de imágenes en el directorio\n",
        "image_files = [file for file in os.listdir(ruta_al_directorio_de_imagenes) if os.path.isfile(os.path.join(ruta_al_directorio_de_imagenes, file))]"
      ]
    },
    {
      "cell_type": "code",
      "execution_count": null,
      "metadata": {
        "id": "bGDiU33dGWVs",
        "outputId": "1911349a-10a2-433b-b905-3f9225613bc1"
      },
      "outputs": [
        {
          "name": "stdout",
          "output_type": "stream",
          "text": [
            "[]\n"
          ]
        }
      ],
      "source": [
        "print(image_files)"
      ]
    },
    {
      "cell_type": "code",
      "execution_count": null,
      "metadata": {
        "id": "BkdiuvCFGWVt"
      },
      "outputs": [],
      "source": [
        " # Crear subdirectorios para cada tipo de galaxia\n",
        "for file in image_files:\n",
        "    # Obtener el tipo de galaxia del nombre del archivo (asumiendo que el tipo está antes del primer punto '.')\n",
        "    tipo_galaxia = file.split('.')[0]\n",
        "\n",
        "    # Crear subdirectorio para el tipo de galaxia si no existe\n",
        "    tipo_galaxia_dir = os.path.join(directorio_base, tipo_galaxia)\n",
        "    os.makedirs(tipo_galaxia_dir, exist_ok=True)\n",
        "\n",
        "    # Mover la imagen al subdirectorio correspondiente\n",
        "    src_path = os.path.join(ruta_al_directorio_de_imagenes, file)\n",
        "    if len(os.listdir(tipo_galaxia_dir)) < 0.8 * len(image_files):\n",
        "        dst_path = os.path.join(tipo_galaxia_dir, file)\n",
        "        shutil.move(src_path, dst_path)\n"
      ]
    },
    {
      "cell_type": "code",
      "execution_count": null,
      "metadata": {
        "id": "VT53emsZGWVu",
        "outputId": "239bbaa9-bf44-428c-dc80-e97e56767bf2"
      },
      "outputs": [
        {
          "name": "stdout",
          "output_type": "stream",
          "text": [
            "El directorio no contiene imágenes.\n"
          ]
        }
      ],
      "source": [
        "def plot_random_galaxy(path):\n",
        "    image_files = os.listdir(path)\n",
        "\n",
        "    if not image_files:\n",
        "        print(\"El directorio no contiene imágenes.\")\n",
        "        return\n",
        "\n",
        "    random_image = random.choice(image_files)\n",
        "\n",
        "    random_image = random.choice(image_files)\n",
        "\n",
        "    plt.figure(figsize=(6, 6))\n",
        "    img = tf.io.read_file(os.path.join(path, random_image))\n",
        "    img = tf.io.decode_image(img)\n",
        "    plt.imshow(img)\n",
        "    plt.title(f'Class: {random_image}\\nShape: {img.shape}')\n",
        "    plt.axis(False)\n",
        "\n",
        "plot_random_galaxy(\"/home/vpinto/teaching/imagenes_ordenadas/edge\")\n",
        "plt.show()"
      ]
    },
    {
      "cell_type": "markdown",
      "source": [
        "A continuación se toma un directorio base que contiene subdirectorios para diferentes tipos de galaxias. Luego, para cada tipo de galaxia, se itera sobre las imágenes presentes en su subdirectorio. Cada imagen es redimensionada a un tamaño de 128x128 píxeles y se normalizan los valores de los píxeles en el rango [0, 1]. Posteriormente, se guardan las imágenes redimensionadas y normalizadas en el mismo directorio, reemplazando las imágenes originales. Este proceso se repite para cada tipo de galaxia, asegurando que todas las imágenes se ajusten al tamaño y formato deseado. Al final, el código muestra un mensaje informando que todas las imágenes de galaxias han sido redimensionadas y normalizadas."
      ],
      "metadata": {
        "id": "SF-_4LU4K4Gs"
      }
    },
    {
      "cell_type": "code",
      "execution_count": null,
      "metadata": {
        "id": "QRTEE2VrGWVv",
        "outputId": "f7f9a952-89ff-4e83-b8fc-26a2c098fd10"
      },
      "outputs": [
        {
          "name": "stdout",
          "output_type": "stream",
          "text": [
            "Imágenes de galaxias redimensionadas y normalizadas a 128x128.\n"
          ]
        }
      ],
      "source": [
        "  # Ajusta la ruta a tu directorio de imágenes\n",
        "\n",
        "# Directorio base donde se crearán los subdirectorios para cada tipo de galaxia\n",
        "directorio_base = '/home/vpinto/teaching/imagenes_ordenadas/'  # Ajusta la ruta del directorio base donde se crearán los subdirectorios\n",
        "\n",
        "# Obtener la lista de nombres de subdirectorios (tipos de galaxia) en el directorio base\n",
        "tipos_de_galaxia = os.listdir(directorio_base)\n",
        "\n",
        "# Normalizar las imágenes al tamaño deseado (128x128) y guardarlas en un nuevo directorio\n",
        "img_height, img_width = 128, 128  # Tamaño deseado para las imágenes normalizadas\n",
        "\n",
        "for tipo_galaxia in tipos_de_galaxia:\n",
        "    tipo_galaxia_dir = os.path.join(directorio_base, tipo_galaxia)\n",
        "\n",
        "    # Verificar que el elemento sea un directorio antes de procesarlo\n",
        "    if os.path.isdir(tipo_galaxia_dir):\n",
        "        for file in os.listdir(tipo_galaxia_dir):\n",
        "            img_path = os.path.join(tipo_galaxia_dir, file)\n",
        "\n",
        "            # Verificar que el elemento sea un archivo antes de intentar abrirlo como imagen\n",
        "            if os.path.isfile(img_path):\n",
        "                img = Image.open(img_path)\n",
        "                img_resized = img.resize((img_height, img_width))\n",
        "\n",
        "                # Normalizar los píxeles de la imagen en el rango [0, 1]\n",
        "                img_array = np.array(img_resized) / 255.0\n",
        "\n",
        "                # Guardar la imagen normalizada en el mismo directorio con el mismo nombre\n",
        "                img_normalized = Image.fromarray((img_array * 255).astype('uint8'))\n",
        "                img_normalized.save(img_path)\n",
        "\n",
        "print(\"Imágenes de galaxias redimensionadas y normalizadas a 128x128.\")"
      ]
    },
    {
      "cell_type": "code",
      "execution_count": null,
      "metadata": {
        "id": "t1Ne5y3mGWVw"
      },
      "outputs": [],
      "source": [
        "# Preprocesamiento y aumento de datos para entrenamiento\n",
        "train_datagen = ImageDataGenerator(\n",
        "    rescale=1./255,         # Normalización los píxeles en el rango [0, 1]\n",
        "    shear_range=0.2,\n",
        "    zoom_range=0.2,\n",
        "    horizontal_flip=True\n",
        ")\n"
      ]
    },
    {
      "cell_type": "code",
      "execution_count": null,
      "metadata": {
        "id": "_-7SQfXTGWVx",
        "outputId": "6a3c318d-e7a8-49ef-a48b-8286df5ea0ee"
      },
      "outputs": [
        {
          "name": "stdout",
          "output_type": "stream",
          "text": [
            "El directorio no contiene imágenes.\n"
          ]
        }
      ],
      "source": [
        "plot_random_galaxy(\"/home/vpinto/teaching/imagenes_ordenadas/smooth\")"
      ]
    },
    {
      "cell_type": "markdown",
      "source": [
        "\n",
        "Ahora se organiza un conjunto de imágenes de galaxias ubicadas en un directorio principal. Primero, se crean dos directorios llamados \"train\" y \"test\" para dividir las imágenes en conjuntos de entrenamiento y prueba. Luego, se recorre cada tipo de galaxia, y para cada tipo, mezclando aleatoriamente las imágenes y se dividen en un 80% para el conjunto de entrenamiento y un 20% para el conjunto de prueba. Luego, se mueven las imágenes a las carpetas correspondientes en los directorios de \"train\" y \"test\". Finalmente, se eliminan las carpetas \"test\" y \"train\" vacías que se crearon inicialmente.\n",
        "\n",
        "En resumen, el código organiza las imágenes de galaxias en subdirectorios separados para su uso en el entrenamiento y prueba en el modelo de clasificación de galaxias."
      ],
      "metadata": {
        "id": "XNH0H2Z5LraZ"
      }
    },
    {
      "cell_type": "code",
      "execution_count": null,
      "metadata": {
        "id": "rVFKIStDGWVx",
        "outputId": "5d7eb641-e262-4355-98d5-ee1d8481f48d"
      },
      "outputs": [
        {
          "name": "stdout",
          "output_type": "stream",
          "text": [
            "Imágenes de galaxias organizadas en subdirectorios de entrenamiento y prueba según el tipo.\n"
          ]
        }
      ],
      "source": [
        "import os\n",
        "import shutil\n",
        "import random\n",
        "\n",
        "# Directorio que contiene todas las imágenes de galaxias\n",
        "ruta_al_directorio_de_imagenes = '/home/vpinto/teaching/imagenes_ordenadas'\n",
        "\n",
        "# Directorio base donde se crearán los subdirectorios para cada tipo de galaxia en \"train\" y \"test\"\n",
        "directorio_base = '/home/vpinto/teaching/Directorios_entrenamiento_test'\n",
        "\n",
        "# Lista de nombres de carpetas de tipos de galaxias\n",
        "tipos_de_galaxias = ['test', 'smooth', 'other', 'spiral', 'edge', 'train']\n",
        "\n",
        "# Crear directorios principales para entrenamiento y prueba\n",
        "train_dir = os.path.join(directorio_base, 'train')\n",
        "test_dir = os.path.join(directorio_base, 'test')\n",
        "os.makedirs(train_dir, exist_ok=True)\n",
        "os.makedirs(test_dir, exist_ok=True)\n",
        "\n",
        "# Recorrer cada tipo de galaxia y organizar las imágenes en \"train\" y \"test\"\n",
        "for tipo_galaxia in tipos_de_galaxias:\n",
        "    tipo_galaxia_dir = os.path.join(ruta_al_directorio_de_imagenes, tipo_galaxia)\n",
        "    if os.path.exists(tipo_galaxia_dir):\n",
        "        image_files = [file for file in os.listdir(tipo_galaxia_dir) if os.path.isfile(os.path.join(tipo_galaxia_dir, file))]\n",
        "        random.shuffle(image_files)\n",
        "        num_train = int(0.8 * len(image_files))\n",
        "        train_files = image_files[:num_train]\n",
        "        test_files = image_files[num_train:]\n",
        "\n",
        "        for file in train_files:\n",
        "            src_path = os.path.join(tipo_galaxia_dir, file)\n",
        "            dst_path = os.path.join(train_dir, tipo_galaxia, file)\n",
        "            shutil.move(src_path, dst_path)\n",
        "\n",
        "        for file in test_files:\n",
        "            src_path = os.path.join(tipo_galaxia_dir, file)\n",
        "            dst_path = os.path.join(test_dir, tipo_galaxia, file)\n",
        "            shutil.move(src_path, dst_path)\n",
        "\n",
        "# Eliminar las carpetas \"test\" y \"train\" que quedaron vacías\n",
        "if os.path.exists(os.path.join(test_dir, 'test')):\n",
        "    os.rmdir(os.path.join(test_dir, 'test'))\n",
        "if os.path.exists(os.path.join(train_dir, 'train')):\n",
        "    os.rmdir(os.path.join(train_dir, 'train'))\n",
        "\n",
        "print(\"Imágenes de galaxias organizadas en subdirectorios de entrenamiento y prueba según el tipo.\")\n",
        "\n",
        "\n"
      ]
    },
    {
      "cell_type": "markdown",
      "source": [
        "Se configuran dos generadores de imágenes de Keras, uno para el conjunto de entrenamiento y otro para el conjunto de prueba. Primero, se crea un generador de entrenamiento (train_generator) utilizando la clase ImageDataGenerator de Keras, que realiza una normalización en las imágenes al dividir los valores de píxeles por 255. Luego, se especifican el directorio de entrenamiento (train_dir), el tamaño de destino de las imágenes (128x128 píxeles), el tamaño del lote (batch_size) que define cuántas imágenes se procesarán en cada paso y class_mode se establece en 'categorical', lo que indica que el problema es de clasificación multiclase. Luego, se crea otro generador de prueba (test_generator) siguiendo la misma configuración que el generador de entrenamiento pero utilizando el directorio de prueba (test_dir). Estos generadores permiten obtener lotes de imágenes preprocesadas y sus etiquetas para alimentar y entrenar una red neuronal."
      ],
      "metadata": {
        "id": "BtNjAowyMQqz"
      }
    },
    {
      "cell_type": "code",
      "execution_count": null,
      "metadata": {
        "id": "8x8MPWLXGWVy",
        "outputId": "070055e6-cca8-4853-c18c-680f45ab4d26"
      },
      "outputs": [
        {
          "name": "stdout",
          "output_type": "stream",
          "text": [
            "Found 39122 images belonging to 4 classes.\n",
            "Found 9783 images belonging to 4 classes.\n"
          ]
        }
      ],
      "source": [
        "\n",
        "# Ahora podemos usar los generadores de imágenes de Keras para el conjunto de entrenamiento y el conjunto de prueba\n",
        "train_datagen = ImageDataGenerator(rescale=1./255)\n",
        "test_datagen = ImageDataGenerator(rescale=1./255)\n",
        "\n",
        "train_generator = train_datagen.flow_from_directory(\n",
        "    train_dir,\n",
        "    target_size=(128, 128),\n",
        "    batch_size=32,\n",
        "    class_mode='categorical'\n",
        ")\n",
        "\n",
        "test_generator = test_datagen.flow_from_directory(\n",
        "    test_dir,\n",
        "    target_size=(128, 128),\n",
        "    batch_size=32,\n",
        "    class_mode='categorical'\n",
        "    )"
      ]
    },
    {
      "cell_type": "markdown",
      "source": [
        "Aquí se define la arquitectura de una Red Neuronal Convolucional (CNN). La red está compuesta por varias capas convolucionales y de agrupamiento para extraer características visuales de las imágenes. Se utilizan capas completamente conectadas para realizar la clasificación. El modelo se compila con el optimizador \"Adam\", la función de pérdida \"categorical_crossentropy\" para clasificación multiclase, y se registra la precisión (\"accuracy\") como métrica. A continuación, se entrena el modelo utilizando el generador de imágenes de entrenamiento (`train_generator`) y el generador de imágenes de prueba (`test_generator`) durante 20 épocas."
      ],
      "metadata": {
        "id": "8DX3A4NXNKTj"
      }
    },
    {
      "cell_type": "code",
      "execution_count": null,
      "metadata": {
        "id": "KRV9U2dvGWVy"
      },
      "outputs": [],
      "source": [
        "# Definir la arquitectura de la CNN\n",
        "num_classes = len(train_generator.class_indices)\n",
        "\n",
        "model = models.Sequential()\n",
        "model.add(layers.Conv2D(32, (3, 3), activation='relu', input_shape=(img_height, img_width, 3)))\n",
        "model.add(layers.MaxPooling2D((2, 2)))\n",
        "model.add(layers.Conv2D(64, (3, 3), activation='relu'))\n",
        "model.add(layers.MaxPooling2D((2, 2)))\n",
        "model.add(layers.Conv2D(128, (3, 3), activation='relu'))\n",
        "model.add(layers.MaxPooling2D((2, 2)))\n",
        "model.add(layers.Flatten())\n",
        "model.add(layers.Dense(128, activation='relu'))\n",
        "model.add(layers.Dense(num_classes, activation='softmax'))"
      ]
    },
    {
      "cell_type": "code",
      "execution_count": null,
      "metadata": {
        "id": "CsrUMu51GWVy"
      },
      "outputs": [],
      "source": [
        "# Compilar el modelo\n",
        "model.compile(optimizer='adam',\n",
        "              loss='categorical_crossentropy',\n",
        "              metrics=['accuracy'])\n"
      ]
    },
    {
      "cell_type": "code",
      "execution_count": null,
      "metadata": {
        "id": "pM6W2UxZGWVz",
        "outputId": "60e952d5-a591-4836-9ae7-0e7b955cf24f"
      },
      "outputs": [
        {
          "name": "stdout",
          "output_type": "stream",
          "text": [
            "Epoch 1/20\n"
          ]
        },
        {
          "name": "stderr",
          "output_type": "stream",
          "text": [
            "2023-07-30 22:47:35.233653: I tensorflow/core/common_runtime/executor.cc:1197] [/device:CPU:0] (DEBUG INFO) Executor start aborting (this does not indicate an error and you can ignore this message): INVALID_ARGUMENT: You must feed a value for placeholder tensor 'Placeholder/_0' with dtype int32\n",
            "\t [[{{node Placeholder/_0}}]]\n"
          ]
        },
        {
          "name": "stdout",
          "output_type": "stream",
          "text": [
            "1216/1223 [============================>.] - ETA: 0s - loss: 0.8936 - accuracy: 0.6285"
          ]
        },
        {
          "name": "stderr",
          "output_type": "stream",
          "text": [
            "2023-07-30 22:47:42.342950: I tensorflow/core/common_runtime/executor.cc:1197] [/device:CPU:0] (DEBUG INFO) Executor start aborting (this does not indicate an error and you can ignore this message): INVALID_ARGUMENT: You must feed a value for placeholder tensor 'Placeholder/_0' with dtype int32\n",
            "\t [[{{node Placeholder/_0}}]]\n"
          ]
        },
        {
          "name": "stdout",
          "output_type": "stream",
          "text": [
            "1223/1223 [==============================] - 9s 7ms/step - loss: 0.8933 - accuracy: 0.6287 - val_loss: 0.8110 - val_accuracy: 0.6615\n",
            "Epoch 2/20\n",
            "1223/1223 [==============================] - 8s 7ms/step - loss: 0.7672 - accuracy: 0.6767 - val_loss: 0.7486 - val_accuracy: 0.6854\n",
            "Epoch 3/20\n",
            "1223/1223 [==============================] - 8s 7ms/step - loss: 0.7007 - accuracy: 0.7054 - val_loss: 0.7272 - val_accuracy: 0.6952\n",
            "Epoch 4/20\n",
            "1223/1223 [==============================] - 8s 7ms/step - loss: 0.6475 - accuracy: 0.7279 - val_loss: 0.7223 - val_accuracy: 0.6970\n",
            "Epoch 5/20\n",
            "1223/1223 [==============================] - 8s 7ms/step - loss: 0.5866 - accuracy: 0.7560 - val_loss: 0.7717 - val_accuracy: 0.6891\n",
            "Epoch 6/20\n",
            "1223/1223 [==============================] - 8s 7ms/step - loss: 0.5116 - accuracy: 0.7863 - val_loss: 0.8259 - val_accuracy: 0.6879\n",
            "Epoch 7/20\n",
            "1223/1223 [==============================] - 8s 7ms/step - loss: 0.4259 - accuracy: 0.8248 - val_loss: 1.0008 - val_accuracy: 0.6689\n",
            "Epoch 8/20\n",
            "1223/1223 [==============================] - 8s 7ms/step - loss: 0.3446 - accuracy: 0.8596 - val_loss: 1.1693 - val_accuracy: 0.6555\n",
            "Epoch 9/20\n",
            "1223/1223 [==============================] - 8s 7ms/step - loss: 0.2647 - accuracy: 0.8952 - val_loss: 1.4499 - val_accuracy: 0.6631\n",
            "Epoch 10/20\n",
            "1223/1223 [==============================] - 8s 7ms/step - loss: 0.2050 - accuracy: 0.9214 - val_loss: 1.7672 - val_accuracy: 0.6582\n",
            "Epoch 11/20\n",
            "1223/1223 [==============================] - 9s 7ms/step - loss: 0.1592 - accuracy: 0.9411 - val_loss: 1.9055 - val_accuracy: 0.6500\n",
            "Epoch 12/20\n",
            "1223/1223 [==============================] - 8s 7ms/step - loss: 0.1269 - accuracy: 0.9547 - val_loss: 2.2532 - val_accuracy: 0.6562\n",
            "Epoch 13/20\n",
            "1223/1223 [==============================] - 8s 7ms/step - loss: 0.1001 - accuracy: 0.9652 - val_loss: 2.6649 - val_accuracy: 0.6519\n",
            "Epoch 14/20\n",
            "1223/1223 [==============================] - 8s 7ms/step - loss: 0.0999 - accuracy: 0.9657 - val_loss: 2.5750 - val_accuracy: 0.6420\n",
            "Epoch 15/20\n",
            "1223/1223 [==============================] - 8s 7ms/step - loss: 0.0820 - accuracy: 0.9744 - val_loss: 2.6683 - val_accuracy: 0.6594\n",
            "Epoch 16/20\n",
            "1223/1223 [==============================] - 8s 7ms/step - loss: 0.0669 - accuracy: 0.9786 - val_loss: 3.2222 - val_accuracy: 0.6516\n",
            "Epoch 17/20\n",
            "1223/1223 [==============================] - 8s 7ms/step - loss: 0.0686 - accuracy: 0.9778 - val_loss: 2.9071 - val_accuracy: 0.6545\n",
            "Epoch 18/20\n",
            "1223/1223 [==============================] - 8s 7ms/step - loss: 0.0570 - accuracy: 0.9821 - val_loss: 3.4941 - val_accuracy: 0.6423\n",
            "Epoch 19/20\n",
            "1223/1223 [==============================] - 8s 7ms/step - loss: 0.0633 - accuracy: 0.9800 - val_loss: 3.6865 - val_accuracy: 0.6523\n",
            "Epoch 20/20\n",
            "1223/1223 [==============================] - 8s 6ms/step - loss: 0.0549 - accuracy: 0.9834 - val_loss: 3.4671 - val_accuracy: 0.6370\n",
            "Entrenamiento completado.\n"
          ]
        }
      ],
      "source": [
        "# Entrenar el modelo\n",
        "steps_per_epoch = len(train_generator)\n",
        "\n",
        "history = model.fit(train_generator, epochs=20, validation_data=test_generator)\n",
        "\n",
        "\n",
        "print(\"Entrenamiento completado.\")"
      ]
    },
    {
      "cell_type": "code",
      "execution_count": null,
      "metadata": {
        "id": "s2jOy7q5GWVz",
        "outputId": "755469a6-891e-463a-b9b5-4ada96c361ad"
      },
      "outputs": [
        {
          "name": "stdout",
          "output_type": "stream",
          "text": [
            "['smooth', 'spiral', 'other', 'edge']\n"
          ]
        }
      ],
      "source": [
        "print(os.listdir(test_generator.directory))"
      ]
    },
    {
      "cell_type": "markdown",
      "source": [
        "Se evalúa el rendimiento del modelo. Se utiliza el generador de imágenes de prueba (`test_generator`) para obtener lotes de imágenes y etiquetas preprocesadas. Luego, se calcula la pérdida y la precisión del modelo en el conjunto de prueba mediante la función `evaluate()`. La pérdida representa el valor de la función de pérdida (en este caso, la \"categorical_crossentropy\") en el conjunto de prueba, que mide qué tan bien se ajustan las predicciones del modelo a las etiquetas reales."
      ],
      "metadata": {
        "id": "XUrzXYSHN5QK"
      }
    },
    {
      "cell_type": "code",
      "execution_count": null,
      "metadata": {
        "id": "0KvlOaTLGWVz",
        "outputId": "44b75a50-2343-4d28-cdb2-ba5566aa3e5c"
      },
      "outputs": [
        {
          "name": "stdout",
          "output_type": "stream",
          "text": [
            " 29/306 [=>............................] - ETA: 1s - loss: 3.8521 - accuracy: 0.6336"
          ]
        },
        {
          "name": "stderr",
          "output_type": "stream",
          "text": [
            "2023-07-30 22:51:09.314577: I tensorflow/core/common_runtime/executor.cc:1197] [/device:CPU:0] (DEBUG INFO) Executor start aborting (this does not indicate an error and you can ignore this message): INVALID_ARGUMENT: You must feed a value for placeholder tensor 'Placeholder/_0' with dtype int32\n",
            "\t [[{{node Placeholder/_0}}]]\n"
          ]
        },
        {
          "name": "stdout",
          "output_type": "stream",
          "text": [
            "306/306 [==============================] - 2s 6ms/step - loss: 3.4671 - accuracy: 0.6370\n",
            "Pérdida en el conjunto de prueba: 3.4671053886413574\n",
            "Precisión en el conjunto de prueba: 0.637023389339447\n"
          ]
        }
      ],
      "source": [
        "\n",
        "# Evaluar el rendimiento del modelo en el conjunto de prueba\n",
        "test_steps = len(test_generator)\n",
        "loss, accuracy = model.evaluate(test_generator, steps=test_steps)\n",
        "print(f\"Pérdida en el conjunto de prueba: {loss}\")\n",
        "print(f\"Precisión en el conjunto de prueba: {accuracy}\")"
      ]
    },
    {
      "cell_type": "markdown",
      "source": [
        "Finalmente; se obtienen las predicciones del modelo en el conjunto de prueba, y luego se calcula y se muestra un \"Reporte de Clasificación\" que incluye métricas como precisión, recall, f1-score y soporte para cada clase. Luego, se genera y muestra una \"Matriz de Confusión\", que representa visualmente las predicciones correctas e incorrectas para cada clase. Después, se muestra un gráfico de la precisión y pérdida del modelo en el conjunto de entrenamiento y prueba a lo largo de las épocas de entrenamiento, lo que permite evaluar el desempeño general del modelo durante el proceso de aprendizaje."
      ],
      "metadata": {
        "id": "l5Aju0p5OIPj"
      }
    },
    {
      "cell_type": "code",
      "execution_count": null,
      "metadata": {
        "id": "ZpDavjiMGWVz",
        "outputId": "30834e2b-8643-4d52-c3f9-91d81e63ede9"
      },
      "outputs": [
        {
          "name": "stdout",
          "output_type": "stream",
          "text": [
            " 20/306 [>.............................] - ETA: 1s"
          ]
        },
        {
          "name": "stderr",
          "output_type": "stream",
          "text": [
            "2023-07-30 22:51:11.080490: I tensorflow/core/common_runtime/executor.cc:1197] [/device:CPU:0] (DEBUG INFO) Executor start aborting (this does not indicate an error and you can ignore this message): INVALID_ARGUMENT: You must feed a value for placeholder tensor 'Placeholder/_0' with dtype int32\n",
            "\t [[{{node Placeholder/_0}}]]\n"
          ]
        },
        {
          "name": "stdout",
          "output_type": "stream",
          "text": [
            "306/306 [==============================] - 2s 5ms/step\n",
            "Reporte de clasificación:\n",
            "              precision    recall  f1-score   support\n",
            "\n",
            "           0       0.07      0.07      0.07       524\n",
            "           1       0.19      0.18      0.19      1980\n",
            "           2       0.48      0.49      0.48      4810\n",
            "           3       0.24      0.24      0.24      2469\n",
            "\n",
            "    accuracy                           0.34      9783\n",
            "   macro avg       0.24      0.24      0.24      9783\n",
            "weighted avg       0.34      0.34      0.34      9783\n",
            "\n"
          ]
        },
        {
          "data": {
            "image/png": "[encoded data removed]",
            "text/plain": [
              "<Figure size 800x600 with 2 Axes>"
            ]
          },
          "metadata": {},
          "output_type": "display_data"
        },
        {
          "data": {
            "image/png": "[encoded data removed]",
            "text/plain": [
              "<Figure size 1000x500 with 1 Axes>"
            ]
          },
          "metadata": {},
          "output_type": "display_data"
        }
      ],
      "source": [
        "\n",
        "\n",
        "# Obtener las predicciones del modelo en el conjunto de prueba\n",
        "y_pred_probs = model.predict(test_generator)\n",
        "y_pred = np.argmax(y_pred_probs, axis=1)\n",
        "y_true = test_generator.classes\n",
        "\n",
        "# Generar reporte de clasificación\n",
        "from sklearn.metrics import classification_report\n",
        "print(\"Reporte de clasificación:\")\n",
        "print(classification_report(y_true, y_pred))\n",
        "\n",
        "# Generar matriz de confusión\n",
        "from sklearn.metrics import confusion_matrix\n",
        "cm = confusion_matrix(y_true, y_pred)\n",
        "\n",
        "# Función para mostrar matriz de confusión como gráfico\n",
        "def plot_confusion_matrix(cm, classes, title='Matriz de Confusión', cmap=plt.cm.Blues):\n",
        "    plt.imshow(cm, interpolation='nearest', cmap=cmap)\n",
        "    plt.title(title)\n",
        "    plt.colorbar()\n",
        "    tick_marks = np.arange(len(classes))\n",
        "    plt.xticks(tick_marks, classes, rotation=45)\n",
        "    plt.yticks(tick_marks, classes)\n",
        "    plt.tight_layout()\n",
        "    plt.xlabel('Etiqueta Predicha')\n",
        "    plt.ylabel('Etiqueta Verdadera')\n",
        "\n",
        "# Definir etiquetas de las clases\n",
        "class_labels = sorted(train_generator.class_indices.keys())\n",
        "\n",
        "# Mostrar matriz de confusión\n",
        "plt.figure(figsize=(8, 6))\n",
        "plot_confusion_matrix(cm, classes=class_labels)\n",
        "plt.show()\n",
        "\n",
        "# Generar gráfico de la precisión y pérdida en el conjunto de entrenamiento y prueba a lo largo de las épocas\n",
        "plt.figure(figsize=(10, 5))\n",
        "plt.plot(history.history['accuracy'], label='Precisión en Entrenamiento')\n",
        "plt.plot(history.history['val_accuracy'], label='Precisión en Prueba')\n",
        "plt.plot(history.history['loss'], label='Pérdida en Entrenamiento')\n",
        "plt.plot(history.history['val_loss'], label='Pérdida en Prueba')\n",
        "plt.xlabel('Épocas')\n",
        "plt.ylabel('Valor')\n",
        "plt.title('Precisión y Pérdida durante el Entrenamiento')\n",
        "plt.legend()\n",
        "plt.grid(True)\n",
        "plt.show()\n",
        "\n"
      ]
    },
    {
      "cell_type": "markdown",
      "source": [
        "### Banco de imágenes utilizadas durante el proyecto:\n",
        "\n",
        "*   https://www.kaggle.com/datasets/laurenkwong/galaxydat/code\n",
        "\n",
        "### Integrantes\n",
        "\n",
        "*   Nicolás Campos\n",
        "*   Andrés Rumillanca\n",
        "*   Vicente Silva\n",
        "\n",
        "\n",
        "\n"
      ],
      "metadata": {
        "id": "Ln34NPcDOf7j"
      }
    }
  ],
  "metadata": {
    "kernelspec": {
      "display_name": "Python 3 (ipykernel)",
      "language": "python",
      "name": "python3"
    },
    "language_info": {
      "codemirror_mode": {
        "name": "ipython",
        "version": 3
      },
      "file_extension": ".py",
      "mimetype": "text/x-python",
      "name": "python",
      "nbconvert_exporter": "python",
      "pygments_lexer": "ipython3",
      "version": "3.10.6"
    },
    "colab": {
      "provenance": []
    }
  },
  "nbformat": 4,
  "nbformat_minor": 0
}